{
 "cells": [
  {
   "cell_type": "code",
   "execution_count": 35,
   "metadata": {},
   "outputs": [],
   "source": [
    "import torch\n",
    "import xarray as xr  # or from netCDF4 import Dataset"
   ]
  },
  {
   "cell_type": "code",
   "execution_count": 36,
   "metadata": {},
   "outputs": [],
   "source": [
    "# Load the .nc file\n",
    "file_path = 'potential_vorticity_2018_5.625deg.nc'\n",
    "data = xr.open_dataset(file_path)\n",
    "\n",
    "# Inspect the data\n",
    "print(data)"
   ]
  },
  {
   "cell_type": "code",
   "execution_count": 46,
   "metadata": {},
   "outputs": [],
    "tensor = torch.from_numpy(numpy_array_pv)\n",
    "\n",
    "# Check the tensor\n",
    "print(tensor.shape)\n",
    "print(tensor.dtype)"
    "version": 3
   },
   "file_extension": ".py",
   "mimetype": "text/x-python",
   "name": "python",
   "nbconvert_exporter": "python",
   "pygments_lexer": "ipython3",
   "version": "3.12.8"
  }
 },
 "nbformat": 4,
 "nbformat_minor": 2
}
