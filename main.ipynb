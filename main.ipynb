{
 "cells": [
  {
   "cell_type": "code",
   "execution_count": 35,
   "metadata": {},
   "outputs": [],
   "source": [
    "import torch\n",
    "import xarray as xr  # or from netCDF4 import Dataset"
   ]
  },
  {
   "cell_type": "code",
   "execution_count": 36,
   "metadata": {},
   "outputs": [],
   "source": [
    "# Load the .nc file\n",
    "file_path = 'potential_vorticity_2018_5.625deg.nc'\n",
    "data = xr.open_dataset(file_path)\n",
    "\n",
    "# Inspect the data\n",
    "print(data)"
   ]
  },
  {
   "cell_type": "code",
   "execution_count": 46,
   "metadata": {},
   "outputs": [],
   "source": [
    "# Select a variable (e.g., 'temperature') and convert it to a PyTorch tensor\n",
    "numpy_array_lat = data['lat'].values \n",
    "numpy_array_lon = data['lon'].values \n",
    "numpy_array_time = data['time'].values \n",
    "numpy_array_level = data['level'].values \n",
    "numpy_array_pv = data['pv'].values \n",
    "\n",
    "#print(numpy_array_lat )\n",
    "#print(numpy_array_lon )\n",
    "print(numpy_array_time)\n",
    "print(numpy_array_level)\n",
    "print(numpy_array_pv)\n",
    "\n",
    "#print(numpy_array) \n",
    "tensor = torch.from_numpy(numpy_array_pv)\n",
    "\n",
    "slice = tensor[:, :, 4, 1]\n",
    "# Check the tensor\n",
    "print(slice)\n",
    "#print(tensor.dtype)"
   ]
  }
 ],
 "metadata": {
  "kernelspec": {
   "display_name": "Python 3",
   "language": "python",
   "name": "python3"
  },
  "language_info": {
   "codemirror_mode": {
    "name": "ipython",
    "version": 3
   },
   "file_extension": ".py",
   "mimetype": "text/x-python",
   "name": "python",
   "nbconvert_exporter": "python",
   "pygments_lexer": "ipython3",
   "version": "3.12.8"
  }
 },
 "nbformat": 4,
 "nbformat_minor": 2
}
